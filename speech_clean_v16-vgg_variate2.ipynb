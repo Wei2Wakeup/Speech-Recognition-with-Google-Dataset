{
 "cells": [
  {
   "cell_type": "code",
   "execution_count": 1,
   "metadata": {
    "collapsed": true
   },
   "outputs": [],
   "source": [
    "from enum import Enum\n",
    "import hashlib\n",
    "import math\n",
    "import os\n",
    "import random\n",
    "import re\n",
    "\n",
    "#from chainmap import ChainMap\n",
    "from scipy.io import wavfile\n",
    "from scipy import signal\n",
    "\n",
    "import librosa\n",
    "import pandas as pd\n",
    "import numpy as np\n",
    "import librosa.display\n",
    "import matplotlib.pyplot as plt\n",
    "%matplotlib inline  "
   ]
  },
  {
   "cell_type": "code",
   "execution_count": 2,
   "metadata": {
    "collapsed": true
   },
   "outputs": [],
   "source": [
    "# audio_file='C:/Projects/kaggle/speech/train/audio/silence/empty.wav'\n",
    "\n",
    "# duration   = 1\n",
    "# sample_rate = 16000 #22050\n",
    "\n",
    "# wave = np.zeros(duration*sample_rate, np.float32)\n",
    "# wavfile.write(audio_file,sample_rate,wave)"
   ]
  },
  {
   "cell_type": "markdown",
   "metadata": {},
   "source": [
    "## preporcess "
   ]
  },
  {
   "cell_type": "code",
   "execution_count": 3,
   "metadata": {
    "collapsed": true
   },
   "outputs": [],
   "source": [
    "AUDIO_DIR = 'C:/Projects/kaggle/speech'\n",
    "AUDIO_NUM_CLASSES = 12\n",
    "AUDIO_NAMES =[ 'silence', 'unknown', 'yes', 'no', 'up', \n",
    "              'down', 'left', 'right', 'on', 'off', 'stop', 'go']\n",
    "AUDIO_SR = 16000\n",
    "AUDIO_LENGTH = 16000"
   ]
  },
  {
   "cell_type": "code",
   "execution_count": 4,
   "metadata": {
    "collapsed": true
   },
   "outputs": [],
   "source": [
    "label_to_name = dict(zip(list(range(AUDIO_NUM_CLASSES)), AUDIO_NAMES))\n",
    "name_to_label = dict(zip( AUDIO_NAMES,list(range(AUDIO_NUM_CLASSES))))"
   ]
  },
  {
   "cell_type": "code",
   "execution_count": 5,
   "metadata": {
    "collapsed": true
   },
   "outputs": [],
   "source": [
    "def read_list_from_file(list_file, comment='#', func=None):\n",
    "    with open(list_file) as f:\n",
    "        lines  = f.readlines()\n",
    "\n",
    "    strings=[]\n",
    "    for line in lines:\n",
    "        s = line.split(comment, 1)[0].strip()\n",
    "        if s != '':\n",
    "            strings.append(s)\n",
    "    if func is not None:\n",
    "        strings=[func(s) for s in strings]\n",
    "\n",
    "    return strings"
   ]
  },
  {
   "cell_type": "code",
   "execution_count": 6,
   "metadata": {
    "collapsed": true
   },
   "outputs": [],
   "source": [
    "known_probability = 0.8\n",
    "silence_probability = 0.1\n",
    "unknown_probability = 0.1"
   ]
  },
  {
   "cell_type": "markdown",
   "metadata": {},
   "source": [
    "## Train/Test Set List"
   ]
  },
  {
   "cell_type": "code",
   "execution_count": 7,
   "metadata": {
    "collapsed": true
   },
   "outputs": [],
   "source": [
    "def get_train_test_list(split,mode,settype):\n",
    "    num_classes = len(AUDIO_NAMES)\n",
    "    ids=[]\n",
    "    labels=[]\n",
    "    index_by_class=[]\n",
    "    \n",
    "    lines = read_list_from_file(AUDIO_DIR + '/split/' + split, comment='#')\n",
    "    for line in lines:\n",
    "        ids.append(line)\n",
    "\n",
    "    if mode in ['train']:\n",
    "        for line in lines:\n",
    "            name = line.split('/')[2]\n",
    "            if name not in AUDIO_NAMES:\n",
    "                #continue\n",
    "                name='unknown'\n",
    "            labels.append(name_to_label[name])\n",
    "\n",
    "        for i in range(num_classes):\n",
    "            index =np.where(np.array(labels)==i)[0]\n",
    "            index_by_class.append(list(index))\n",
    "    known_num = 0\n",
    "    for i in range(2,AUDIO_NUM_CLASSES):\n",
    "        known_num += len(index_by_class[i])\n",
    "    silence_num = int(known_num/known_probability*silence_probability)\n",
    "    unknown_num = int(known_num/known_probability*unknown_probability)\n",
    "    ##silence list\n",
    "    silence_list  = ['train/audio/silence/silence.wav']*silence_num\n",
    "    ##unknow list\n",
    "    unknown_list = index_by_class[1]\n",
    "    random.shuffle(unknown_list)\n",
    "    unknown_list = unknown_list[:unknown_num]\n",
    "    unknown_list = [ ids[i] for i in unknown_list]\n",
    "    ##know list\n",
    "    known_list = []\n",
    "    for i in range(2,AUDIO_NUM_CLASSES):\n",
    "        known_list +=  index_by_class[i]\n",
    "    known_list = [ ids[i] for i in known_list]\n",
    "    \n",
    "    ##\n",
    "    final_list = silence_list + unknown_list + known_list\n",
    "    if settype in ['train']:\n",
    "        random.shuffle(final_list)\n",
    "    \n",
    "    return final_list"
   ]
  },
  {
   "cell_type": "code",
   "execution_count": 8,
   "metadata": {
    "collapsed": true
   },
   "outputs": [],
   "source": [
    "# split='train_train_51088.txt'\n",
    "# mode = 'train'\n",
    "# settype = 'train'\n",
    "# train_list=get_train_test_list(split,mode,settype)"
   ]
  },
  {
   "cell_type": "code",
   "execution_count": 9,
   "metadata": {
    "collapsed": true
   },
   "outputs": [],
   "source": [
    "#len(train_list)"
   ]
  },
  {
   "cell_type": "code",
   "execution_count": 10,
   "metadata": {
    "collapsed": true
   },
   "outputs": [],
   "source": [
    "#len(test_list)"
   ]
  },
  {
   "cell_type": "code",
   "execution_count": 11,
   "metadata": {
    "collapsed": true
   },
   "outputs": [],
   "source": [
    "AUDIO_NOISES=[]\n",
    "for file in ['dude_miaowing.wav',  'pink_noise.wav',   'white_noise.wav', 'doing_the_dishes.wav',\n",
    "             'exercise_bike.wav',  'running_tap.wav']:\n",
    "    audio_file = AUDIO_DIR + '/train/audio/_background_noise_/' + file\n",
    "    wave = librosa.core.load(audio_file, sr=AUDIO_SR)[0]\n",
    "    AUDIO_NOISES.append(wave)"
   ]
  },
  {
   "cell_type": "code",
   "execution_count": 12,
   "metadata": {
    "collapsed": true
   },
   "outputs": [],
   "source": [
    "def tf_random_add_noise_transform(wave, noise_limit=0.2, u=0.5):\n",
    "\n",
    "    if random.random() < u:\n",
    "        num_noises = len(AUDIO_NOISES)\n",
    "        noise = AUDIO_NOISES[np.random.choice(num_noises)]\n",
    "\n",
    "        wave_length  = len(wave)\n",
    "        noise_length = len(noise)\n",
    "        t = np.random.randint(0, noise_length - wave_length - 1)\n",
    "        noise = noise[t:t + wave_length]\n",
    "\n",
    "        alpha = np.random.random() * noise_limit\n",
    "        wave  = np.clip(alpha * noise + wave, -1, 1)\n",
    "\n",
    "    return wave\n",
    "\n",
    "\n",
    "def tf_random_time_shift_transform(wave, shift_limit=0.2, u=0.5):\n",
    "    if random.random() < u:\n",
    "        wave_length  = len(wave)\n",
    "        shift_limit = shift_limit*wave_length\n",
    "        shift = np.random.randint(-shift_limit, shift_limit)\n",
    "        t0 = -min(0, shift)\n",
    "        t1 =  max(0, shift)\n",
    "        wave = np.pad(wave, (t0, t1), 'constant')\n",
    "        wave = wave[:-t0] if t0 else wave[t1:]\n",
    "\n",
    "    return wave\n",
    "\n",
    "\n",
    "def tf_random_pad_transform(wave, length=AUDIO_LENGTH):\n",
    "\n",
    "    if len(wave)<AUDIO_LENGTH:\n",
    "        L = abs(len(wave)-AUDIO_LENGTH)\n",
    "        start = np.random.choice(L)\n",
    "        wave  = np.pad(wave, (start, L-start), 'constant')\n",
    "\n",
    "    elif len(wave)>AUDIO_LENGTH:\n",
    "        L = abs(len(wave)-AUDIO_LENGTH)\n",
    "        start = np.random.choice(L)\n",
    "        wave  = wave[start: start+AUDIO_LENGTH]\n",
    "\n",
    "    return wave\n",
    "\n",
    "def tf_fix_pad_transform(wave, length=AUDIO_LENGTH):\n",
    "    # wave = np.pad(wave, (0, max(0, AUDIO_LENGTH - len(wave))), 'constant')\n",
    "    # return wave\n",
    "\n",
    "    if len(wave)<AUDIO_LENGTH:\n",
    "        L = abs(len(wave)-AUDIO_LENGTH)\n",
    "        start = L//2\n",
    "        wave  = np.pad(wave, (start, L-start), 'constant')\n",
    "\n",
    "    elif len(wave)>AUDIO_LENGTH:\n",
    "        L = abs(len(wave)-AUDIO_LENGTH)\n",
    "        start = L//2\n",
    "        wave  = wave[start: start+AUDIO_LENGTH]\n",
    "\n",
    "    return wave"
   ]
  },
  {
   "cell_type": "code",
   "execution_count": 13,
   "metadata": {
    "collapsed": true
   },
   "outputs": [],
   "source": [
    "def tf_wave_to_mfcc(wave):\n",
    "\n",
    "    spectrogram = librosa.feature.melspectrogram(wave, sr=AUDIO_SR, n_mels=40, hop_length=160, n_fft=480, fmin=20, fmax=4000)\n",
    "    #spectrogram = librosa.power_to_db(spectrogram)\n",
    "    idx = [spectrogram > 0]\n",
    "    spectrogram[idx] = np.log(spectrogram[idx])\n",
    "\n",
    "    dct_filters = librosa.filters.dct(n_filters=40, n_input=40)\n",
    "    mfcc = [np.matmul(dct_filters, x) for x in np.split(spectrogram, spectrogram.shape[1], axis=1)]\n",
    "    mfcc = np.hstack(mfcc)\n",
    "    mfcc = mfcc.astype(np.float32)\n",
    "\n",
    "    return mfcc\n",
    "\n",
    "\n",
    "def tf_wave_to_melspectrogram(wave):\n",
    "    spectrogram = librosa.feature.melspectrogram(wave, sr=AUDIO_SR, n_mels=40, hop_length=160, n_fft=480, fmin=20, fmax=4000)\n",
    "    spectrogram = librosa.power_to_db(spectrogram)\n",
    "    spectrogram = spectrogram.astype(np.float32)\n",
    "\n",
    "    return spectrogram\n",
    "\n",
    "def log_specgram(audio, sample_rate=16000, window_size=20,\n",
    "                 step_size=10, eps=1e-10):\n",
    "    nperseg = int(round(window_size * sample_rate / 1e3))\n",
    "    noverlap = int(round(step_size * sample_rate / 1e3))\n",
    "    _, _, spec = signal.spectrogram(audio,\n",
    "                                    fs=sample_rate,\n",
    "                                    window='hann',\n",
    "                                    nperseg=nperseg,\n",
    "                                    noverlap=noverlap,\n",
    "                                    detrend=False)\n",
    "    return np.log(spec.T.astype(np.float32) + eps)"
   ]
  },
  {
   "cell_type": "code",
   "execution_count": 14,
   "metadata": {
    "collapsed": true
   },
   "outputs": [],
   "source": [
    "def train_augment(wave):\n",
    "    wave = tf_random_time_shift_transform(wave, shift_limit=0.2, u=0.5)\n",
    "    wave = tf_random_add_noise_transform (wave, noise_limit=0.2, u=0.5)\n",
    "    wave = tf_random_pad_transform(wave)\n",
    "\n",
    "    #tensor = tf_wave_to_melspectrogram(wave)[np.newaxis,:]\n",
    "    #tensor = tf_wave_to_mfcc(wave).reshape(40,101,1)\n",
    "    #tensor = tf_wave_to_melspectrogram(wave).reshape(40,101,1)\n",
    "    tensor = log_specgram(wave).reshape(99,161,1)\n",
    "    #tensor = torch.from_numpy(tensor)\n",
    "    return tensor\n",
    "\n",
    "\n",
    "def valid_augment(wave):\n",
    "    wave = tf_fix_pad_transform(wave)\n",
    "\n",
    "    #tensor = tf_wave_to_melspectrogram(wave)[np.newaxis,:]\n",
    "    #tensor = tf_wave_to_mfcc(wave).reshape(40,101,1)\n",
    "    #tensor = tf_wave_to_melspectrogram(wave).reshape(40,101,1)\n",
    "    tensor = log_specgram(wave).reshape(99,161,1)\n",
    "    #tensor = torch.from_numpy(tensor)\n",
    "    return tensor"
   ]
  },
  {
   "cell_type": "code",
   "execution_count": 15,
   "metadata": {},
   "outputs": [
    {
     "data": {
      "text/plain": [
       "<matplotlib.image.AxesImage at 0x234090c61d0>"
      ]
     },
     "execution_count": 15,
     "metadata": {},
     "output_type": "execute_result"
    },
    {
     "data": {
      "image/png": "[encoded data removed]",
      "text/plain": [
       "<matplotlib.figure.Figure at 0x2340577db00>"
      ]
     },
     "metadata": {},
     "output_type": "display_data"
    }
   ],
   "source": [
    "audio_file = r'C:\\Projects\\kaggle\\speech\\train\\audio\\yes\\00f0204f_nohash_0.wav'\n",
    "wave = librosa.core.load(audio_file, sr=AUDIO_SR)[0]\n",
    "res= train_augment(wave)\n",
    "fig=plt.figure(figsize=(8, 14))\n",
    "ax2 = fig.add_subplot(212)\n",
    "ax2.imshow(res[:,:,0])"
   ]
  },
  {
   "cell_type": "markdown",
   "metadata": {},
   "source": [
    "## Generate Train Test Data"
   ]
  },
  {
   "cell_type": "code",
   "execution_count": 16,
   "metadata": {
    "collapsed": true
   },
   "outputs": [],
   "source": [
    "label_cat={}\n",
    "for i in range(0,len(AUDIO_NAMES)):\n",
    "    tmp=np.zeros((len(AUDIO_NAMES)))\n",
    "    tmp[i]=1\n",
    "    label_cat[AUDIO_NAMES[i]]=tmp"
   ]
  },
  {
   "cell_type": "code",
   "execution_count": 17,
   "metadata": {
    "collapsed": true
   },
   "outputs": [],
   "source": [
    "def train_generator(batch_size):\n",
    "    split='train_train_51088.txt'\n",
    "    train_list=get_train_test_list(split,'train','train')\n",
    "    L = len(train_list)\n",
    "\n",
    "    #this line is just to make the generator infinite, keras needs that    \n",
    "    while True:\n",
    "\n",
    "        batch_start = 0\n",
    "        batch_end = batch_size\n",
    "\n",
    "        while batch_start < L:\n",
    "            limit = min(batch_end, L)\n",
    "            X=[]\n",
    "            Y=[]\n",
    "            for file in train_list[batch_start:limit]:\n",
    "                ## label\n",
    "                label = file.split('/')[2]\n",
    "                if label not in AUDIO_NAMES:\n",
    "                    label = 'unknown'\n",
    "                Y.append(label_cat[label])\n",
    "                ## mfcc\n",
    "                if label in ['silence']:\n",
    "                    wave = np.zeros(1*AUDIO_SR, np.float32)\n",
    "                else:\n",
    "                    audio_file = AUDIO_DIR + '/'+ file\n",
    "                    wave = librosa.core.load(audio_file, sr=AUDIO_SR)[0]\n",
    "                mfcc_tmp = train_augment(wave)\n",
    "                X.append(mfcc_tmp) \n",
    "        \n",
    "            yield np.array(X),np.array(Y) #a tuple with two numpy arrays with batch_size samples     \n",
    "\n",
    "            batch_start += batch_size   \n",
    "            batch_end += batch_size"
   ]
  },
  {
   "cell_type": "code",
   "execution_count": 18,
   "metadata": {
    "collapsed": true
   },
   "outputs": [],
   "source": [
    "def valid_generator(batch_size):\n",
    "    split='train_test_6835.txt'\n",
    "    valid_list=get_train_test_list(split,'train','test')\n",
    "    L = len(valid_list)\n",
    "\n",
    "    #this line is just to make the generator infinite, keras needs that    \n",
    "    while True:\n",
    "\n",
    "        batch_start = 0\n",
    "        batch_end = batch_size\n",
    "\n",
    "        while batch_start < L:\n",
    "            limit = min(batch_end, L)\n",
    "            X=[]\n",
    "            Y=[]\n",
    "            for file in valid_list[batch_start:limit]:\n",
    "                ## label\n",
    "                label = file.split('/')[2]\n",
    "                if label not in AUDIO_NAMES:\n",
    "                    label = 'unknown'\n",
    "                Y.append(label_cat[label])\n",
    "                ## mfcc\n",
    "                if label in ['silence']:\n",
    "                    wave = np.zeros(1*AUDIO_SR, np.float32)\n",
    "                else:\n",
    "                    audio_file = AUDIO_DIR + '/'+ file\n",
    "                    wave = librosa.core.load(audio_file, sr=AUDIO_SR)[0]\n",
    "                mfcc_tmp = valid_augment(wave)\n",
    "                X.append(mfcc_tmp) \n",
    "        \n",
    "            yield np.array(X),np.array(Y) #a tuple with two numpy arrays with batch_size samples     \n",
    "\n",
    "            batch_start += batch_size   \n",
    "            batch_end += batch_size"
   ]
  },
  {
   "cell_type": "code",
   "execution_count": 19,
   "metadata": {
    "collapsed": true
   },
   "outputs": [],
   "source": [
    "# def generate_traintest_data(file_list):\n",
    "#     X = []\n",
    "#     Y = []\n",
    "#     for file in train_list:\n",
    "#         ## label\n",
    "#         label = file.split('/')[2]\n",
    "#         if label not in AUDIO_NAMES:\n",
    "#             label = 'unknown'\n",
    "#         Y.append(label_cat[label])\n",
    "#         ## mfcc\n",
    "#         if label in ['silence']:\n",
    "#             wave = np.zeros(1*AUDIO_SR, np.float32)\n",
    "#         else:\n",
    "#             audio_file = AUDIO_DIR + '/'+ file\n",
    "#             wave = librosa.core.load(audio_file, sr=AUDIO_SR)[0]\n",
    "#         mfcc_tmp = train_augment(wave)\n",
    "#         X.append(mfcc_tmp)\n",
    "    \n",
    "#     return np.array(X),np.array(Y)\n",
    "    "
   ]
  },
  {
   "cell_type": "code",
   "execution_count": 20,
   "metadata": {
    "collapsed": true
   },
   "outputs": [],
   "source": [
    "# split='train_test_6835.txt'\n",
    "# mode = 'train'\n",
    "# settype = 'test'\n",
    "# valid_list=get_train_test_list(split,mode,settype)\n",
    "# len(valid_list)"
   ]
  },
  {
   "cell_type": "markdown",
   "metadata": {},
   "source": [
    "## Keras CNN Model"
   ]
  },
  {
   "cell_type": "code",
   "execution_count": 21,
   "metadata": {},
   "outputs": [
    {
     "name": "stderr",
     "output_type": "stream",
     "text": [
      "Using TensorFlow backend.\n"
     ]
    },
    {
     "name": "stdout",
     "output_type": "stream",
     "text": [
      "_________________________________________________________________\n",
      "Layer (type)                 Output Shape              Param #   \n",
      "=================================================================\n",
      "batch_normalization_1 (Batch (None, 99, 161, 1)        4         \n",
      "_________________________________________________________________\n",
      "conv2d_1 (Conv2D)            (None, 99, 161, 16)       160       \n",
      "_________________________________________________________________\n",
      "batch_normalization_2 (Batch (None, 99, 161, 16)       64        \n",
      "_________________________________________________________________\n",
      "activation_1 (Activation)    (None, 99, 161, 16)       0         \n",
      "_________________________________________________________________\n",
      "conv2d_2 (Conv2D)            (None, 99, 161, 16)       2320      \n",
      "_________________________________________________________________\n",
      "batch_normalization_3 (Batch (None, 99, 161, 16)       64        \n",
      "_________________________________________________________________\n",
      "activation_2 (Activation)    (None, 99, 161, 16)       0         \n",
      "_________________________________________________________________\n",
      "max_pooling2d_1 (MaxPooling2 (None, 49, 80, 16)        0         \n",
      "_________________________________________________________________\n",
      "conv2d_3 (Conv2D)            (None, 49, 80, 32)        4640      \n",
      "_________________________________________________________________\n",
      "batch_normalization_4 (Batch (None, 49, 80, 32)        128       \n",
      "_________________________________________________________________\n",
      "activation_3 (Activation)    (None, 49, 80, 32)        0         \n",
      "_________________________________________________________________\n",
      "conv2d_4 (Conv2D)            (None, 49, 80, 32)        9248      \n",
      "_________________________________________________________________\n",
      "batch_normalization_5 (Batch (None, 49, 80, 32)        128       \n",
      "_________________________________________________________________\n",
      "activation_4 (Activation)    (None, 49, 80, 32)        0         \n",
      "_________________________________________________________________\n",
      "max_pooling2d_2 (MaxPooling2 (None, 24, 40, 32)        0         \n",
      "_________________________________________________________________\n",
      "dropout_1 (Dropout)          (None, 24, 40, 32)        0         \n",
      "_________________________________________________________________\n",
      "conv2d_5 (Conv2D)            (None, 24, 40, 64)        18496     \n",
      "_________________________________________________________________\n",
      "conv2d_6 (Conv2D)            (None, 24, 40, 64)        36928     \n",
      "_________________________________________________________________\n",
      "batch_normalization_6 (Batch (None, 24, 40, 64)        256       \n",
      "_________________________________________________________________\n",
      "activation_5 (Activation)    (None, 24, 40, 64)        0         \n",
      "_________________________________________________________________\n",
      "max_pooling2d_3 (MaxPooling2 (None, 12, 20, 64)        0         \n",
      "_________________________________________________________________\n",
      "dropout_2 (Dropout)          (None, 12, 20, 64)        0         \n",
      "_________________________________________________________________\n",
      "conv2d_7 (Conv2D)            (None, 12, 20, 128)       73856     \n",
      "_________________________________________________________________\n",
      "conv2d_8 (Conv2D)            (None, 12, 20, 128)       147584    \n",
      "_________________________________________________________________\n",
      "batch_normalization_7 (Batch (None, 12, 20, 128)       512       \n",
      "_________________________________________________________________\n",
      "activation_6 (Activation)    (None, 12, 20, 128)       0         \n",
      "_________________________________________________________________\n",
      "max_pooling2d_4 (MaxPooling2 (None, 6, 10, 128)        0         \n",
      "_________________________________________________________________\n",
      "dropout_3 (Dropout)          (None, 6, 10, 128)        0         \n",
      "_________________________________________________________________\n",
      "flatten_1 (Flatten)          (None, 7680)              0         \n",
      "_________________________________________________________________\n",
      "dense_1 (Dense)              (None, 512)               3932672   \n",
      "_________________________________________________________________\n",
      "batch_normalization_8 (Batch (None, 512)               2048      \n",
      "_________________________________________________________________\n",
      "activation_7 (Activation)    (None, 512)               0         \n",
      "_________________________________________________________________\n",
      "dense_2 (Dense)              (None, 256)               131328    \n",
      "_________________________________________________________________\n",
      "dense_3 (Dense)              (None, 12)                3084      \n",
      "=================================================================\n",
      "Total params: 4,363,520\n",
      "Trainable params: 4,361,918\n",
      "Non-trainable params: 1,602\n",
      "_________________________________________________________________\n"
     ]
    }
   ],
   "source": [
    "from keras.models import Sequential\n",
    "from keras.layers import Conv2D, MaxPooling2D, Flatten, Dense,\\\n",
    "                         Dropout,BatchNormalization,Activation\n",
    "from keras import initializers\n",
    "from keras import optimizers\n",
    "###\n",
    "model = Sequential()\n",
    "model.add(BatchNormalization(input_shape=(99, 161, 1)))\n",
    "### conv 1a\n",
    "model.add(Conv2D(16, \n",
    "                 kernel_size = (3, 3),\n",
    "                 padding='same',\n",
    "                ))\n",
    "model.add(BatchNormalization())\n",
    "model.add(Activation('relu'))\n",
    "### conv 1b\n",
    "model.add(Conv2D(16, \n",
    "                 kernel_size = (3, 3),\n",
    "                 padding='same',\n",
    "                ))\n",
    "model.add(BatchNormalization())\n",
    "model.add(Activation('relu'))\n",
    "### pooling\n",
    "model.add(MaxPooling2D(pool_size=(2, 2)))\n",
    "### conv 2a\n",
    "model.add(Conv2D(32, \n",
    "                 kernel_size = (3, 3),\n",
    "                 padding='same',\n",
    "                ))\n",
    "model.add(BatchNormalization())\n",
    "model.add(Activation('relu'))\n",
    "### conv 2b\n",
    "model.add(Conv2D(32, \n",
    "                 kernel_size = (3, 3),\n",
    "                 padding='same',\n",
    "                ))\n",
    "model.add(BatchNormalization())\n",
    "model.add(Activation('relu'))\n",
    "### pooling\n",
    "model.add(MaxPooling2D(pool_size=(2, 2)))\n",
    "model.add(Dropout(0.2))\n",
    "### conv 3a\n",
    "model.add(Conv2D(64, \n",
    "                 kernel_size = (3, 3),\n",
    "                 padding='same',\n",
    "                ))\n",
    "### conv 3b\n",
    "model.add(Conv2D(64, \n",
    "                 kernel_size = (3, 3),\n",
    "                 padding='same',\n",
    "                ))\n",
    "model.add(BatchNormalization())\n",
    "model.add(Activation('relu'))\n",
    "### pooling\n",
    "model.add(MaxPooling2D(pool_size=(2, 2)))\n",
    "model.add(Dropout(0.2))\n",
    "### conv 4a\n",
    "model.add(Conv2D(128, \n",
    "                 kernel_size = (3, 3),\n",
    "                 padding='same',\n",
    "                ))\n",
    "### conv 4b\n",
    "model.add(Conv2D(128, \n",
    "                 kernel_size = (3, 3),\n",
    "                 padding='same',\n",
    "                ))\n",
    "model.add(BatchNormalization())\n",
    "model.add(Activation('relu'))\n",
    "### pooling\n",
    "model.add(MaxPooling2D(pool_size=(2, 2)))\n",
    "model.add(Dropout(0.2))\n",
    "### hidden\n",
    "model.add(Flatten())\n",
    "model.add(Dense(512)) \n",
    "model.add(BatchNormalization())\n",
    "model.add(Activation('relu'))\n",
    "### linear\n",
    "model.add(Dense(256,activation = 'relu')) \n",
    "## softmax\n",
    "model.add(Dense(len(AUDIO_NAMES), \n",
    "                activation = 'softmax')) #Last layer with one output per class\n",
    "\n",
    "model.compile(loss='categorical_crossentropy', \n",
    "              optimizer=optimizers.Adagrad(),#optimizers.SGD(lr=0.001, decay=1e-5, momentum=0.9, nesterov=True), \n",
    "              metrics=[\"accuracy\"])\n",
    "model.summary()"
   ]
  },
  {
   "cell_type": "markdown",
   "metadata": {
    "collapsed": true
   },
   "source": [
    "## Run model"
   ]
  },
  {
   "cell_type": "code",
   "execution_count": 22,
   "metadata": {
    "collapsed": true
   },
   "outputs": [],
   "source": [
    "from keras.callbacks import EarlyStopping"
   ]
  },
  {
   "cell_type": "code",
   "execution_count": 23,
   "metadata": {
    "scrolled": true
   },
   "outputs": [
    {
     "name": "stdout",
     "output_type": "stream",
     "text": [
      "Epoch 1/100\n",
      "182/182 [==============================] - 46s 255ms/step - loss: 1.2490 - acc: 0.5981 - val_loss: 2.8395 - val_acc: 0.2276\n",
      "Epoch 2/100\n",
      "182/182 [==============================] - 42s 233ms/step - loss: 0.5366 - acc: 0.8292 - val_loss: 3.7111 - val_acc: 0.1213\n",
      "Epoch 3/100\n",
      "182/182 [==============================] - 43s 235ms/step - loss: 0.4613 - acc: 0.8577 - val_loss: 0.4047 - val_acc: 0.8628\n",
      "Epoch 4/100\n",
      "182/182 [==============================] - 43s 236ms/step - loss: 0.3577 - acc: 0.8881 - val_loss: 4.5532 - val_acc: 0.3798\n",
      "Epoch 5/100\n",
      "182/182 [==============================] - 43s 236ms/step - loss: 0.3344 - acc: 0.8980 - val_loss: 0.2230 - val_acc: 0.9283\n",
      "Epoch 6/100\n",
      "182/182 [==============================] - 43s 236ms/step - loss: 0.2942 - acc: 0.9103 - val_loss: 0.2151 - val_acc: 0.9305\n",
      "Epoch 7/100\n",
      "182/182 [==============================] - 43s 236ms/step - loss: 0.2761 - acc: 0.9165 - val_loss: 0.2192 - val_acc: 0.9258\n",
      "Epoch 8/100\n",
      "182/182 [==============================] - 43s 236ms/step - loss: 0.2643 - acc: 0.9194 - val_loss: 0.2998 - val_acc: 0.9058\n",
      "Epoch 9/100\n",
      "182/182 [==============================] - 43s 236ms/step - loss: 0.2621 - acc: 0.9230 - val_loss: 0.2622 - val_acc: 0.9077\n",
      "Epoch 10/100\n",
      "182/182 [==============================] - 43s 236ms/step - loss: 0.2376 - acc: 0.9303 - val_loss: 0.1728 - val_acc: 0.9467\n",
      "Epoch 11/100\n",
      "182/182 [==============================] - 43s 236ms/step - loss: 0.2281 - acc: 0.9339 - val_loss: 0.2184 - val_acc: 0.9348\n",
      "Epoch 12/100\n",
      "182/182 [==============================] - 43s 236ms/step - loss: 0.2309 - acc: 0.9326 - val_loss: 0.1714 - val_acc: 0.9470\n",
      "Epoch 13/100\n",
      "182/182 [==============================] - 43s 236ms/step - loss: 0.2151 - acc: 0.9367 - val_loss: 0.1883 - val_acc: 0.9426\n",
      "Epoch 14/100\n",
      "182/182 [==============================] - 43s 236ms/step - loss: 0.2112 - acc: 0.9375 - val_loss: 0.1656 - val_acc: 0.9467\n",
      "Epoch 15/100\n",
      "182/182 [==============================] - 43s 236ms/step - loss: 0.2074 - acc: 0.9385 - val_loss: 0.1528 - val_acc: 0.9526\n",
      "Epoch 16/100\n",
      "182/182 [==============================] - 43s 237ms/step - loss: 0.2025 - acc: 0.9411 - val_loss: 0.1587 - val_acc: 0.9479\n",
      "Epoch 17/100\n",
      "182/182 [==============================] - 43s 237ms/step - loss: 0.1949 - acc: 0.9430 - val_loss: 0.1566 - val_acc: 0.9498\n",
      "Epoch 18/100\n",
      "182/182 [==============================] - 43s 236ms/step - loss: 0.1919 - acc: 0.9431 - val_loss: 0.1495 - val_acc: 0.9548\n",
      "Epoch 19/100\n",
      "182/182 [==============================] - 43s 236ms/step - loss: 0.1901 - acc: 0.9443 - val_loss: 0.1483 - val_acc: 0.9548\n",
      "Epoch 20/100\n",
      "182/182 [==============================] - 43s 236ms/step - loss: 0.1834 - acc: 0.9464 - val_loss: 0.1545 - val_acc: 0.9532\n",
      "Epoch 21/100\n",
      "182/182 [==============================] - 43s 235ms/step - loss: 0.1787 - acc: 0.9481 - val_loss: 0.1578 - val_acc: 0.9523\n",
      "Epoch 22/100\n",
      "182/182 [==============================] - 42s 233ms/step - loss: 0.1778 - acc: 0.9470 - val_loss: 0.1463 - val_acc: 0.9529\n",
      "Epoch 23/100\n",
      "182/182 [==============================] - 43s 236ms/step - loss: 0.1747 - acc: 0.9483 - val_loss: 0.1602 - val_acc: 0.9498\n",
      "Epoch 24/100\n",
      "182/182 [==============================] - 43s 236ms/step - loss: 0.1751 - acc: 0.9483 - val_loss: 0.1450 - val_acc: 0.9548\n",
      "Epoch 25/100\n",
      "182/182 [==============================] - 43s 235ms/step - loss: 0.1722 - acc: 0.9502 - val_loss: 0.1438 - val_acc: 0.9560\n",
      "Epoch 26/100\n",
      "182/182 [==============================] - 43s 235ms/step - loss: 0.1683 - acc: 0.9514 - val_loss: 0.1379 - val_acc: 0.9576\n",
      "Epoch 27/100\n",
      "182/182 [==============================] - 42s 233ms/step - loss: 0.1634 - acc: 0.9516 - val_loss: 0.1387 - val_acc: 0.9570\n",
      "Epoch 28/100\n",
      "182/182 [==============================] - 43s 235ms/step - loss: 0.1652 - acc: 0.9524 - val_loss: 0.1525 - val_acc: 0.9510\n",
      "Epoch 29/100\n",
      "182/182 [==============================] - 43s 236ms/step - loss: 0.1639 - acc: 0.9522 - val_loss: 0.1454 - val_acc: 0.9526\n",
      "Epoch 30/100\n",
      "182/182 [==============================] - 43s 236ms/step - loss: 0.1601 - acc: 0.9543 - val_loss: 0.1438 - val_acc: 0.9557\n",
      "Epoch 31/100\n",
      "182/182 [==============================] - 43s 236ms/step - loss: 0.1578 - acc: 0.9538 - val_loss: 0.1398 - val_acc: 0.9563\n",
      "Epoch 32/100\n",
      "182/182 [==============================] - 43s 236ms/step - loss: 0.1508 - acc: 0.9567 - val_loss: 0.1499 - val_acc: 0.9548\n",
      "Epoch 33/100\n",
      "182/182 [==============================] - 43s 236ms/step - loss: 0.1549 - acc: 0.9560 - val_loss: 0.1516 - val_acc: 0.9548\n",
      "Epoch 34/100\n",
      "182/182 [==============================] - 43s 236ms/step - loss: 0.1544 - acc: 0.9567 - val_loss: 0.2087 - val_acc: 0.9404\n",
      "Epoch 35/100\n",
      "182/182 [==============================] - 43s 236ms/step - loss: 0.1522 - acc: 0.9556 - val_loss: 0.1405 - val_acc: 0.9573\n",
      "Epoch 36/100\n",
      "182/182 [==============================] - 43s 236ms/step - loss: 0.1505 - acc: 0.9563 - val_loss: 0.1353 - val_acc: 0.9576\n",
      "Epoch 37/100\n",
      "182/182 [==============================] - 43s 236ms/step - loss: 0.1498 - acc: 0.9571 - val_loss: 0.1410 - val_acc: 0.9563\n",
      "Epoch 38/100\n",
      "182/182 [==============================] - 43s 236ms/step - loss: 0.1464 - acc: 0.9591 - val_loss: 0.1392 - val_acc: 0.9563\n",
      "Epoch 39/100\n",
      "182/182 [==============================] - 43s 236ms/step - loss: 0.1476 - acc: 0.9586 - val_loss: 0.1432 - val_acc: 0.9557\n",
      "Epoch 40/100\n",
      "182/182 [==============================] - 43s 236ms/step - loss: 0.1433 - acc: 0.9591 - val_loss: 0.1379 - val_acc: 0.9579\n",
      "Epoch 41/100\n",
      "182/182 [==============================] - 43s 236ms/step - loss: 0.1421 - acc: 0.9598 - val_loss: 0.1352 - val_acc: 0.9582\n",
      "Epoch 42/100\n",
      "182/182 [==============================] - 43s 236ms/step - loss: 0.1465 - acc: 0.9586 - val_loss: 0.1523 - val_acc: 0.9498\n",
      "Epoch 43/100\n",
      "182/182 [==============================] - 43s 236ms/step - loss: 0.1431 - acc: 0.9590 - val_loss: 0.1392 - val_acc: 0.9560\n",
      "Epoch 44/100\n",
      "182/182 [==============================] - 43s 235ms/step - loss: 0.1385 - acc: 0.9611 - val_loss: 0.1432 - val_acc: 0.9573\n",
      "Epoch 45/100\n",
      "182/182 [==============================] - 43s 235ms/step - loss: 0.1390 - acc: 0.9609 - val_loss: 0.1389 - val_acc: 0.9579\n",
      "Epoch 46/100\n",
      "182/182 [==============================] - 42s 233ms/step - loss: 0.1359 - acc: 0.9612 - val_loss: 0.1396 - val_acc: 0.9563\n",
      "Epoch 47/100\n",
      "182/182 [==============================] - 42s 231ms/step - loss: 0.1374 - acc: 0.9610 - val_loss: 0.1430 - val_acc: 0.9576\n",
      "Epoch 48/100\n",
      "182/182 [==============================] - 42s 231ms/step - loss: 0.1370 - acc: 0.9612 - val_loss: 0.1440 - val_acc: 0.9570\n",
      "Epoch 49/100\n",
      "182/182 [==============================] - 42s 231ms/step - loss: 0.1354 - acc: 0.9621 - val_loss: 0.1454 - val_acc: 0.9579\n",
      "Epoch 50/100\n",
      "182/182 [==============================] - 42s 231ms/step - loss: 0.1377 - acc: 0.9605 - val_loss: 0.3145 - val_acc: 0.9127\n",
      "Epoch 51/100\n",
      "182/182 [==============================] - 42s 231ms/step - loss: 0.1447 - acc: 0.9582 - val_loss: 0.1455 - val_acc: 0.9560\n",
      "Epoch 52/100\n",
      "182/182 [==============================] - 42s 233ms/step - loss: 0.1366 - acc: 0.9621 - val_loss: 0.1388 - val_acc: 0.9570\n",
      "Epoch 53/100\n",
      "182/182 [==============================] - 42s 232ms/step - loss: 0.1354 - acc: 0.9635 - val_loss: 0.1330 - val_acc: 0.9588\n",
      "Epoch 54/100\n",
      "182/182 [==============================] - 43s 236ms/step - loss: 0.1291 - acc: 0.9646 - val_loss: 0.1389 - val_acc: 0.9588\n",
      "Epoch 55/100\n",
      "182/182 [==============================] - 43s 236ms/step - loss: 0.1330 - acc: 0.9623 - val_loss: 0.1337 - val_acc: 0.9601\n",
      "Epoch 56/100\n",
      "182/182 [==============================] - 43s 236ms/step - loss: 0.1327 - acc: 0.9630 - val_loss: 0.1373 - val_acc: 0.9601\n",
      "Epoch 57/100\n",
      "182/182 [==============================] - 43s 236ms/step - loss: 0.1286 - acc: 0.9633 - val_loss: 0.1447 - val_acc: 0.9551\n",
      "Epoch 58/100\n",
      "182/182 [==============================] - 43s 236ms/step - loss: 0.1348 - acc: 0.9622 - val_loss: 0.1353 - val_acc: 0.9582\n",
      "Epoch 59/100\n",
      "182/182 [==============================] - 43s 235ms/step - loss: 0.1263 - acc: 0.9637 - val_loss: 0.1351 - val_acc: 0.9592\n",
      "Epoch 60/100\n",
      "182/182 [==============================] - 43s 235ms/step - loss: 0.1238 - acc: 0.9658 - val_loss: 0.1376 - val_acc: 0.9588\n"
     ]
    },
    {
     "name": "stdout",
     "output_type": "stream",
     "text": [
      "Epoch 61/100\n",
      "182/182 [==============================] - 43s 235ms/step - loss: 0.1272 - acc: 0.9646 - val_loss: 0.1335 - val_acc: 0.9576\n",
      "Epoch 62/100\n",
      "182/182 [==============================] - 43s 235ms/step - loss: 0.1251 - acc: 0.9648 - val_loss: 0.1375 - val_acc: 0.9579\n",
      "Epoch 63/100\n",
      "182/182 [==============================] - 43s 235ms/step - loss: 0.1277 - acc: 0.9651 - val_loss: 0.1382 - val_acc: 0.9585\n",
      "Epoch 64/100\n",
      "182/182 [==============================] - 43s 236ms/step - loss: 0.1259 - acc: 0.9646 - val_loss: 0.1559 - val_acc: 0.9560\n",
      "Epoch 65/100\n",
      "182/182 [==============================] - 43s 235ms/step - loss: 0.1244 - acc: 0.9656 - val_loss: 0.1345 - val_acc: 0.9579\n",
      "Epoch 66/100\n",
      "182/182 [==============================] - 43s 234ms/step - loss: 0.1265 - acc: 0.9650 - val_loss: 0.1316 - val_acc: 0.9588\n",
      "Epoch 67/100\n",
      "182/182 [==============================] - 43s 235ms/step - loss: 0.1234 - acc: 0.9665 - val_loss: 0.1506 - val_acc: 0.9560\n",
      "Epoch 68/100\n",
      "182/182 [==============================] - 43s 235ms/step - loss: 0.1258 - acc: 0.9654 - val_loss: 0.1450 - val_acc: 0.9567\n",
      "Epoch 69/100\n",
      "182/182 [==============================] - 43s 235ms/step - loss: 0.1270 - acc: 0.9654 - val_loss: 0.1307 - val_acc: 0.9598\n",
      "Epoch 70/100\n",
      "182/182 [==============================] - 43s 234ms/step - loss: 0.1203 - acc: 0.9662 - val_loss: 0.1505 - val_acc: 0.9539\n",
      "Epoch 71/100\n",
      "182/182 [==============================] - 43s 236ms/step - loss: 0.1234 - acc: 0.9661 - val_loss: 0.1383 - val_acc: 0.9560\n",
      "Epoch 72/100\n",
      "182/182 [==============================] - 43s 235ms/step - loss: 0.1183 - acc: 0.9672 - val_loss: 0.1436 - val_acc: 0.9604\n",
      "Epoch 73/100\n",
      "182/182 [==============================] - 43s 235ms/step - loss: 0.1191 - acc: 0.9660 - val_loss: 0.1498 - val_acc: 0.9588\n",
      "Epoch 74/100\n",
      "182/182 [==============================] - 43s 235ms/step - loss: 0.1183 - acc: 0.9666 - val_loss: 0.1393 - val_acc: 0.9576\n",
      "Epoch 75/100\n",
      "182/182 [==============================] - 43s 235ms/step - loss: 0.1186 - acc: 0.9670 - val_loss: 0.1426 - val_acc: 0.9585\n",
      "Epoch 76/100\n",
      "182/182 [==============================] - 43s 235ms/step - loss: 0.1143 - acc: 0.9679 - val_loss: 0.1546 - val_acc: 0.9579\n",
      "Epoch 77/100\n",
      "182/182 [==============================] - 43s 235ms/step - loss: 0.1181 - acc: 0.9672 - val_loss: 0.1340 - val_acc: 0.9582\n",
      "Epoch 78/100\n",
      "182/182 [==============================] - 43s 234ms/step - loss: 0.1170 - acc: 0.9666 - val_loss: 0.1412 - val_acc: 0.9592\n",
      "Epoch 79/100\n",
      "182/182 [==============================] - 43s 234ms/step - loss: 0.1162 - acc: 0.9688 - val_loss: 0.1288 - val_acc: 0.9616\n",
      "Epoch 80/100\n",
      "182/182 [==============================] - 43s 234ms/step - loss: 0.1209 - acc: 0.9667 - val_loss: 0.1331 - val_acc: 0.9585\n",
      "Epoch 81/100\n",
      "182/182 [==============================] - 43s 234ms/step - loss: 0.1128 - acc: 0.9696 - val_loss: 0.1381 - val_acc: 0.9592\n",
      "Epoch 82/100\n",
      "182/182 [==============================] - 43s 235ms/step - loss: 0.1174 - acc: 0.9676 - val_loss: 0.1420 - val_acc: 0.9604\n",
      "Epoch 83/100\n",
      "182/182 [==============================] - 43s 234ms/step - loss: 0.1158 - acc: 0.9678 - val_loss: 0.1483 - val_acc: 0.9588\n",
      "Epoch 84/100\n",
      "182/182 [==============================] - 43s 235ms/step - loss: 0.1148 - acc: 0.9690 - val_loss: 0.1335 - val_acc: 0.9604\n",
      "Epoch 85/100\n",
      "182/182 [==============================] - 43s 234ms/step - loss: 0.1126 - acc: 0.9694 - val_loss: 0.1331 - val_acc: 0.9620\n",
      "Epoch 86/100\n",
      "182/182 [==============================] - 43s 235ms/step - loss: 0.1095 - acc: 0.9697 - val_loss: 0.1499 - val_acc: 0.9607\n",
      "Epoch 87/100\n",
      "182/182 [==============================] - 43s 235ms/step - loss: 0.1139 - acc: 0.9685 - val_loss: 0.1968 - val_acc: 0.9442\n",
      "Epoch 88/100\n",
      "182/182 [==============================] - 43s 234ms/step - loss: 0.1204 - acc: 0.9652 - val_loss: 0.1425 - val_acc: 0.9585\n",
      "Epoch 89/100\n",
      "182/182 [==============================] - 43s 234ms/step - loss: 0.1143 - acc: 0.9670 - val_loss: 0.1389 - val_acc: 0.9576\n",
      "Epoch 90/100\n",
      "182/182 [==============================] - 43s 234ms/step - loss: 0.1064 - acc: 0.9703 - val_loss: 0.1416 - val_acc: 0.9576\n",
      "Epoch 91/100\n",
      "182/182 [==============================] - 43s 234ms/step - loss: 0.1064 - acc: 0.9710 - val_loss: 0.1483 - val_acc: 0.9585\n",
      "Epoch 92/100\n",
      "182/182 [==============================] - 43s 234ms/step - loss: 0.1131 - acc: 0.9692 - val_loss: 0.1415 - val_acc: 0.9588\n",
      "Epoch 93/100\n",
      "182/182 [==============================] - 43s 236ms/step - loss: 0.1137 - acc: 0.9687 - val_loss: 0.1500 - val_acc: 0.9563\n",
      "Epoch 94/100\n",
      "182/182 [==============================] - 43s 235ms/step - loss: 0.1115 - acc: 0.9679 - val_loss: 0.1363 - val_acc: 0.9579\n",
      "Epoch 95/100\n",
      "182/182 [==============================] - 43s 235ms/step - loss: 0.1097 - acc: 0.9693 - val_loss: 0.1377 - val_acc: 0.9607\n",
      "Epoch 96/100\n",
      "182/182 [==============================] - 43s 234ms/step - loss: 0.1074 - acc: 0.9700 - val_loss: 0.1513 - val_acc: 0.9563\n",
      "Epoch 97/100\n",
      "182/182 [==============================] - 43s 234ms/step - loss: 0.1095 - acc: 0.9702 - val_loss: 0.1412 - val_acc: 0.9579\n",
      "Epoch 98/100\n",
      "182/182 [==============================] - 43s 235ms/step - loss: 0.1056 - acc: 0.9714 - val_loss: 0.1343 - val_acc: 0.9585\n",
      "Epoch 99/100\n",
      "182/182 [==============================] - 43s 235ms/step - loss: 0.1106 - acc: 0.9695 - val_loss: 0.1411 - val_acc: 0.9595\n",
      "Epoch 100/100\n",
      "182/182 [==============================] - 43s 235ms/step - loss: 0.1049 - acc: 0.9719 - val_loss: 0.1377 - val_acc: 0.9607\n"
     ]
    }
   ],
   "source": [
    "##### define early stopping callback\n",
    "earlystop = EarlyStopping(monitor='val_acc', min_delta=0.0001, patience=5, \\\n",
    "                          verbose=1, mode='auto')\n",
    "callbacks_list = [earlystop]\n",
    "##\n",
    "# model.fit(X_train, Y_train, \n",
    "#           batch_size=128, epochs=100, #callbacks=callbacks_list,\n",
    "#           validation_data=(X_valid, Y_valid),\n",
    "#           verbose=1)\n",
    "batch_size=128\n",
    "history = model.fit_generator(generator=train_generator(batch_size),\n",
    "                              steps_per_epoch=np.ceil(23172 / batch_size),\n",
    "                              epochs=100,\n",
    "                              verbose=1,\n",
    "                              #callbacks=callbacks,\n",
    "                              validation_data=valid_generator(batch_size),\n",
    "                              validation_steps=int(np.ceil(3207/batch_size)))"
   ]
  },
  {
   "cell_type": "code",
   "execution_count": 24,
   "metadata": {},
   "outputs": [
    {
     "data": {
      "text/plain": [
       "<matplotlib.legend.Legend at 0x235df3450f0>"
      ]
     },
     "execution_count": 24,
     "metadata": {},
     "output_type": "execute_result"
    },
    {
     "data": {
      "image/png": "[encoded data removed]",
      "text/plain": [
       "<matplotlib.figure.Figure at 0x235dcd0f7f0>"
      ]
     },
     "metadata": {},
     "output_type": "display_data"
    }
   ],
   "source": [
    "# summarize history for accuracy\n",
    "plt.plot(history.history['acc'])\n",
    "plt.plot(history.history['val_acc'])\n",
    "plt.title('model accuracy')\n",
    "plt.ylabel('accuracy')\n",
    "plt.xlabel('epoch')\n",
    "plt.legend(['train', 'test'], loc='upper left')"
   ]
  },
  {
   "cell_type": "code",
   "execution_count": 25,
   "metadata": {},
   "outputs": [
    {
     "data": {
      "image/png": "[encoded data removed]",
      "text/plain": [
       "<matplotlib.figure.Figure at 0x235e0f93e48>"
      ]
     },
     "metadata": {},
     "output_type": "display_data"
    }
   ],
   "source": [
    "plt.plot(history.history['loss'])\n",
    "plt.plot(history.history['val_loss'])\n",
    "plt.title('model loss')\n",
    "plt.ylabel('loss')\n",
    "plt.xlabel('epoch')\n",
    "plt.legend(['train', 'test'], loc='upper left')\n",
    "plt.show()"
   ]
  },
  {
   "cell_type": "code",
   "execution_count": 26,
   "metadata": {
    "collapsed": true
   },
   "outputs": [],
   "source": [
    "# history = model.fit_generator(generator=train_generator(batch_size),\n",
    "#                               steps_per_epoch=np.ceil(23172 / batch_size),\n",
    "#                               epochs=100,\n",
    "#                               verbose=1,\n",
    "#                               #callbacks=callbacks,\n",
    "#                               validation_data=valid_generator(batch_size),\n",
    "#                               validation_steps=int(np.ceil(3207/batch_size)))"
   ]
  },
  {
   "cell_type": "markdown",
   "metadata": {},
   "source": [
    "## submission file"
   ]
  },
  {
   "cell_type": "code",
   "execution_count": 27,
   "metadata": {
    "collapsed": true
   },
   "outputs": [],
   "source": [
    "import pandas as pd\n",
    "df = pd.read_csv('C:\\Projects\\kaggle\\speech\\sample_submission\\sample_submission.csv')"
   ]
  },
  {
   "cell_type": "code",
   "execution_count": 28,
   "metadata": {},
   "outputs": [
    {
     "data": {
      "text/html": [
       "<div>\n",
       "<style>\n",
       "    .dataframe thead tr:only-child th {\n",
       "        text-align: right;\n",
       "    }\n",
       "\n",
       "    .dataframe thead th {\n",
       "        text-align: left;\n",
       "    }\n",
       "\n",
       "    .dataframe tbody tr th {\n",
       "        vertical-align: top;\n",
       "    }\n",
       "</style>\n",
       "<table border=\"1\" class=\"dataframe\">\n",
       "  <thead>\n",
       "    <tr style=\"text-align: right;\">\n",
       "      <th></th>\n",
       "      <th>fname</th>\n",
       "      <th>label</th>\n",
       "    </tr>\n",
       "  </thead>\n",
       "  <tbody>\n",
       "    <tr>\n",
       "      <th>0</th>\n",
       "      <td>clip_000044442.wav</td>\n",
       "      <td>silence</td>\n",
       "    </tr>\n",
       "    <tr>\n",
       "      <th>1</th>\n",
       "      <td>clip_0000adecb.wav</td>\n",
       "      <td>silence</td>\n",
       "    </tr>\n",
       "    <tr>\n",
       "      <th>2</th>\n",
       "      <td>clip_0000d4322.wav</td>\n",
       "      <td>silence</td>\n",
       "    </tr>\n",
       "    <tr>\n",
       "      <th>3</th>\n",
       "      <td>clip_0000fb6fe.wav</td>\n",
       "      <td>silence</td>\n",
       "    </tr>\n",
       "    <tr>\n",
       "      <th>4</th>\n",
       "      <td>clip_0001d1559.wav</td>\n",
       "      <td>silence</td>\n",
       "    </tr>\n",
       "  </tbody>\n",
       "</table>\n",
       "</div>"
      ],
      "text/plain": [
       "                fname    label\n",
       "0  clip_000044442.wav  silence\n",
       "1  clip_0000adecb.wav  silence\n",
       "2  clip_0000d4322.wav  silence\n",
       "3  clip_0000fb6fe.wav  silence\n",
       "4  clip_0001d1559.wav  silence"
      ]
     },
     "execution_count": 28,
     "metadata": {},
     "output_type": "execute_result"
    }
   ],
   "source": [
    "df.head()"
   ]
  },
  {
   "cell_type": "code",
   "execution_count": 29,
   "metadata": {
    "collapsed": true
   },
   "outputs": [],
   "source": [
    "def dataLoader(x_set, batch_size):\n",
    "\n",
    "    L = len(x_set)\n",
    "\n",
    "    #this line is just to make the generator infinite, keras needs that    \n",
    "    while True:\n",
    "\n",
    "        batch_start = 0\n",
    "        batch_end = batch_size\n",
    "\n",
    "        while batch_start < L:\n",
    "            limit = min(batch_end, L)\n",
    "            X=[]\n",
    "            for wav_name in x_set[batch_start:limit]:\n",
    "                audio_file = AUDIO_DIR + '/test/audio/'+ wav_name\n",
    "                wave = librosa.core.load(audio_file, sr=AUDIO_SR)[0]\n",
    "                X.append(valid_augment(wave))\n",
    "            X = np.array(X)   \n",
    "            X = X.reshape(X.shape[0], 99, 161, 1)\n",
    "            yield X #a tuple with two numpy arrays with batch_size samples     \n",
    "\n",
    "            batch_start += batch_size   \n",
    "            batch_end += batch_size"
   ]
  },
  {
   "cell_type": "code",
   "execution_count": 30,
   "metadata": {
    "collapsed": true
   },
   "outputs": [],
   "source": [
    "res_Y=model.predict_generator(dataLoader(df['fname'],100),\n",
    "                             steps=np.ceil(df.shape[0] / 100))"
   ]
  },
  {
   "cell_type": "code",
   "execution_count": 31,
   "metadata": {
    "collapsed": true
   },
   "outputs": [],
   "source": [
    "df['label']=np.argmax(res_Y, axis=1)"
   ]
  },
  {
   "cell_type": "code",
   "execution_count": 32,
   "metadata": {
    "collapsed": true
   },
   "outputs": [],
   "source": [
    "# res_classnames=['yes', 'no', 'up', 'down', 'left', 'right', \n",
    "#             'on', 'off', 'stop', 'go','silence']\n",
    "# idx_list = [classnames.index(name) for name in res_classnames]"
   ]
  },
  {
   "cell_type": "code",
   "execution_count": 33,
   "metadata": {
    "collapsed": true
   },
   "outputs": [],
   "source": [
    "# idx_list"
   ]
  },
  {
   "cell_type": "code",
   "execution_count": 34,
   "metadata": {
    "collapsed": true
   },
   "outputs": [],
   "source": [
    "# def relabel(x):\n",
    "#     if x in idx_list:\n",
    "#         return classnames[x]\n",
    "#     else:\n",
    "#         return 'unknown'\n",
    "# df['label']=df['label'].apply(relabel)"
   ]
  },
  {
   "cell_type": "code",
   "execution_count": 35,
   "metadata": {
    "collapsed": true
   },
   "outputs": [],
   "source": [
    "df['label']=df['label'].apply(lambda x: AUDIO_NAMES[x])"
   ]
  },
  {
   "cell_type": "code",
   "execution_count": 36,
   "metadata": {
    "collapsed": true
   },
   "outputs": [],
   "source": [
    "df.to_csv('vgg8_99x161_val_96_.csv',index=False)"
   ]
  },
  {
   "cell_type": "code",
   "execution_count": 37,
   "metadata": {
    "collapsed": true
   },
   "outputs": [],
   "source": [
    "df_Y = pd.DataFrame(res_Y,columns =AUDIO_NAMES)\n",
    "df_Y.to_csv('vgg8_Y_99x161_val_96_.csv',index=False)"
   ]
  },
  {
   "cell_type": "code",
   "execution_count": null,
   "metadata": {
    "collapsed": true
   },
   "outputs": [],
   "source": []
  }
 ],
 "metadata": {
  "kernelspec": {
   "display_name": "Python 3",
   "language": "python",
   "name": "python3"
  },
  "language_info": {
   "codemirror_mode": {
    "name": "ipython",
    "version": 3
   },
   "file_extension": ".py",
   "mimetype": "text/x-python",
   "name": "python",
   "nbconvert_exporter": "python",
   "pygments_lexer": "ipython3",
   "version": "3.6.3"
  }
 },
 "nbformat": 4,
 "nbformat_minor": 2
}
